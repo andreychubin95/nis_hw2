{
 "cells": [
  {
   "cell_type": "code",
   "execution_count": 1,
   "id": "1cf44dc3",
   "metadata": {},
   "outputs": [],
   "source": [
    "import os\n",
    "import warnings\n",
    "\n",
    "warnings.filterwarnings('ignore')"
   ]
  },
  {
   "cell_type": "markdown",
   "id": "f158f39f",
   "metadata": {},
   "source": [
    "### Getting Data"
   ]
  },
  {
   "cell_type": "code",
   "execution_count": 2,
   "id": "d60ea63a",
   "metadata": {},
   "outputs": [
    {
     "name": "stderr",
     "output_type": "stream",
     "text": [
      "[nltk_data] Downloading package gutenberg to\n",
      "[nltk_data]     /Users/andreychubin/nltk_data...\n",
      "[nltk_data]   Package gutenberg is already up-to-date!\n",
      "[nltk_data] Downloading package wordnet to\n",
      "[nltk_data]     /Users/andreychubin/nltk_data...\n",
      "[nltk_data]   Package wordnet is already up-to-date!\n",
      "[nltk_data] Downloading package omw-1.4 to\n",
      "[nltk_data]     /Users/andreychubin/nltk_data...\n",
      "[nltk_data]   Package omw-1.4 is already up-to-date!\n"
     ]
    },
    {
     "data": {
      "text/plain": [
       "True"
      ]
     },
     "execution_count": 2,
     "metadata": {},
     "output_type": "execute_result"
    }
   ],
   "source": [
    "import nltk\n",
    "import pandas as pd\n",
    "\n",
    "nltk.download('gutenberg')\n",
    "nltk.download('wordnet')\n",
    "nltk.download('omw-1.4')"
   ]
  },
  {
   "cell_type": "code",
   "execution_count": 3,
   "id": "13509035",
   "metadata": {},
   "outputs": [
    {
     "name": "stdout",
     "output_type": "stream",
     "text": [
      "Amount of documents: 10\n",
      "Appx. length of first document: 164457 words\n"
     ]
    }
   ],
   "source": [
    "body = []\n",
    "\n",
    "for book in nltk.corpus.gutenberg.fileids()[:10]:\n",
    "    text = nltk.corpus.gutenberg.raw(book)\n",
    "    text = text.replace('\\n', ' ')\n",
    "    body.append(text)\n",
    "\n",
    "print(f'Amount of documents: {len(body)}')\n",
    "print(f'Appx. length of first document: {len(body[0].split(\" \"))} words')"
   ]
  },
  {
   "cell_type": "code",
   "execution_count": 4,
   "id": "1d80367f",
   "metadata": {},
   "outputs": [
    {
     "data": {
      "text/html": [
       "<div>\n",
       "<style scoped>\n",
       "    .dataframe tbody tr th:only-of-type {\n",
       "        vertical-align: middle;\n",
       "    }\n",
       "\n",
       "    .dataframe tbody tr th {\n",
       "        vertical-align: top;\n",
       "    }\n",
       "\n",
       "    .dataframe thead th {\n",
       "        text-align: right;\n",
       "    }\n",
       "</style>\n",
       "<table border=\"1\" class=\"dataframe\">\n",
       "  <thead>\n",
       "    <tr style=\"text-align: right;\">\n",
       "      <th></th>\n",
       "      <th>book_text</th>\n",
       "    </tr>\n",
       "  </thead>\n",
       "  <tbody>\n",
       "    <tr>\n",
       "      <th>0</th>\n",
       "      <td>[Emma by Jane Austen 1816]  VOLUME I  CHAPTER ...</td>\n",
       "    </tr>\n",
       "    <tr>\n",
       "      <th>1</th>\n",
       "      <td>[Persuasion by Jane Austen 1818]   Chapter 1  ...</td>\n",
       "    </tr>\n",
       "    <tr>\n",
       "      <th>2</th>\n",
       "      <td>[Sense and Sensibility by Jane Austen 1811]  C...</td>\n",
       "    </tr>\n",
       "    <tr>\n",
       "      <th>3</th>\n",
       "      <td>[The King James Bible]  The Old Testament of t...</td>\n",
       "    </tr>\n",
       "    <tr>\n",
       "      <th>4</th>\n",
       "      <td>[Poems by William Blake 1789]    SONGS OF INNO...</td>\n",
       "    </tr>\n",
       "  </tbody>\n",
       "</table>\n",
       "</div>"
      ],
      "text/plain": [
       "                                           book_text\n",
       "0  [Emma by Jane Austen 1816]  VOLUME I  CHAPTER ...\n",
       "1  [Persuasion by Jane Austen 1818]   Chapter 1  ...\n",
       "2  [Sense and Sensibility by Jane Austen 1811]  C...\n",
       "3  [The King James Bible]  The Old Testament of t...\n",
       "4  [Poems by William Blake 1789]    SONGS OF INNO..."
      ]
     },
     "execution_count": 4,
     "metadata": {},
     "output_type": "execute_result"
    }
   ],
   "source": [
    "frame = pd.DataFrame(data=body, columns=['book_text'])\n",
    "\n",
    "frame.head()"
   ]
  },
  {
   "cell_type": "markdown",
   "id": "dc08e857",
   "metadata": {},
   "source": [
    "### Tokenizing-functions"
   ]
  },
  {
   "cell_type": "code",
   "execution_count": 5,
   "id": "23a1f361",
   "metadata": {},
   "outputs": [],
   "source": [
    "import re\n",
    "from nltk.stem import WordNetLemmatizer\n",
    "\n",
    "wordnet = WordNetLemmatizer()\n",
    "\n",
    "GROUPING_SPACE_REGEX = re.compile(r'([^\\w]|[+])', re.UNICODE)\n",
    "\n",
    "def simple_word_tokenizer(text, _split=GROUPING_SPACE_REGEX.split):\n",
    "    return [t for t in _split(text.lower()) if t and not t.isspace()]\n",
    "\n",
    "def token_r(text):\n",
    "    words = simple_word_tokenizer(text)\n",
    "    return [wordnet.lemmatize(x, pos='v') for x in words if len(x) > 1]"
   ]
  },
  {
   "cell_type": "code",
   "execution_count": 6,
   "id": "6a43cb49",
   "metadata": {},
   "outputs": [
    {
     "data": {
      "text/plain": [
       "['he', 'go', 'to', 'dublin', 'and', 'drink', '10', 'bottle', 'of', 'beer']"
      ]
     },
     "execution_count": 6,
     "metadata": {},
     "output_type": "execute_result"
    }
   ],
   "source": [
    "test = 'He went to Dublin and drunk 10 bottles of beer'\n",
    "\n",
    "token_r(test)"
   ]
  },
  {
   "cell_type": "markdown",
   "id": "dcf4fa49",
   "metadata": {},
   "source": [
    "### Word Count in Pyspark"
   ]
  },
  {
   "cell_type": "code",
   "execution_count": 7,
   "id": "af84623a",
   "metadata": {},
   "outputs": [],
   "source": [
    "from pyspark import SparkConf\n",
    "from pyspark.sql import SparkSession"
   ]
  },
  {
   "cell_type": "code",
   "execution_count": 8,
   "id": "0d4b229c",
   "metadata": {},
   "outputs": [
    {
     "name": "stderr",
     "output_type": "stream",
     "text": [
      "Using Spark's default log4j profile: org/apache/spark/log4j-defaults.properties\n",
      "Setting default log level to \"WARN\".\n",
      "To adjust logging level use sc.setLogLevel(newLevel). For SparkR, use setLogLevel(newLevel).\n",
      "22/03/12 16:22:55 WARN NativeCodeLoader: Unable to load native-hadoop library for your platform... using builtin-java classes where applicable\n"
     ]
    }
   ],
   "source": [
    "conf = SparkConf()\n",
    "\n",
    "conf.setAll(\n",
    "    [\n",
    "        (\"spark.app.name\", \"Andrey Chubin Word Count\"),\n",
    "        (\"spark.master\", \"local[*]\")\n",
    "    ]\n",
    ")\n",
    "\n",
    "spark = SparkSession\\\n",
    "    .builder\\\n",
    "    .config(conf=conf)\\\n",
    "    .getOrCreate()"
   ]
  },
  {
   "cell_type": "code",
   "execution_count": 9,
   "id": "c72c56e4",
   "metadata": {},
   "outputs": [
    {
     "data": {
      "text/html": [
       "\n",
       "            <div>\n",
       "                <p><b>SparkSession - in-memory</b></p>\n",
       "                \n",
       "        <div>\n",
       "            <p><b>SparkContext</b></p>\n",
       "\n",
       "            <p><a href=\"http://air-andrey:4040\">Spark UI</a></p>\n",
       "\n",
       "            <dl>\n",
       "              <dt>Version</dt>\n",
       "                <dd><code>v3.2.1</code></dd>\n",
       "              <dt>Master</dt>\n",
       "                <dd><code>local[*]</code></dd>\n",
       "              <dt>AppName</dt>\n",
       "                <dd><code>Andrey Chubin Word Count</code></dd>\n",
       "            </dl>\n",
       "        </div>\n",
       "        \n",
       "            </div>\n",
       "        "
      ],
      "text/plain": [
       "<pyspark.sql.session.SparkSession at 0x7f9f75bf98e0>"
      ]
     },
     "execution_count": 9,
     "metadata": {},
     "output_type": "execute_result"
    }
   ],
   "source": [
    "spark"
   ]
  },
  {
   "cell_type": "code",
   "execution_count": 10,
   "id": "53938fb1",
   "metadata": {},
   "outputs": [
    {
     "name": "stderr",
     "output_type": "stream",
     "text": [
      "22/03/12 16:23:02 WARN TaskSetManager: Stage 1 contains a task of very large size (4272 KiB). The maximum recommended task size is 1000 KiB.\n"
     ]
    },
    {
     "name": "stdout",
     "output_type": "stream",
     "text": [
      "+--------------------+\n",
      "|           book_text|\n",
      "+--------------------+\n",
      "|[Emma by Jane Aus...|\n",
      "|[Persuasion by Ja...|\n",
      "|[Sense and Sensib...|\n",
      "|[The King James B...|\n",
      "|[Poems by William...|\n",
      "+--------------------+\n",
      "only showing top 5 rows\n",
      "\n"
     ]
    }
   ],
   "source": [
    "spark_df = spark.createDataFrame(frame)\n",
    "\n",
    "spark_df.show(5)"
   ]
  },
  {
   "cell_type": "code",
   "execution_count": 11,
   "id": "a546c31f",
   "metadata": {},
   "outputs": [
    {
     "name": "stderr",
     "output_type": "stream",
     "text": [
      "22/03/12 16:23:04 WARN TaskSetManager: Stage 2 contains a task of very large size (4272 KiB). The maximum recommended task size is 1000 KiB.\n",
      "                                                                                \r"
     ]
    }
   ],
   "source": [
    "counted = spark_df.rdd\\\n",
    "    .flatMap(lambda row: token_r(row.book_text))\\\n",
    "    .map(lambda word: (word, 1))\\\n",
    "    .reduceByKey(lambda a, b: a+b)\\\n",
    "    .sortBy(lambda x: x[1], ascending=False)"
   ]
  },
  {
   "cell_type": "code",
   "execution_count": 12,
   "id": "17d2cb30",
   "metadata": {
    "scrolled": false
   },
   "outputs": [
    {
     "data": {
      "text/plain": [
       "[('the', 92485),\n",
       " ('and', 71606),\n",
       " ('be', 52283),\n",
       " ('of', 51571),\n",
       " ('to', 31170),\n",
       " ('in', 22195),\n",
       " ('that', 20276),\n",
       " ('he', 18855),\n",
       " ('have', 16614),\n",
       " ('it', 15110)]"
      ]
     },
     "execution_count": 12,
     "metadata": {},
     "output_type": "execute_result"
    }
   ],
   "source": [
    "counted.take(10)"
   ]
  },
  {
   "cell_type": "code",
   "execution_count": 13,
   "id": "7ba341b8",
   "metadata": {},
   "outputs": [],
   "source": [
    "counted_list = counted.collect()"
   ]
  },
  {
   "cell_type": "code",
   "execution_count": 14,
   "id": "956c4066",
   "metadata": {},
   "outputs": [],
   "source": [
    "counted_df = pd.DataFrame(\n",
    "    {\n",
    "        'word': [x[0] for x in counted_list],\n",
    "        'count': [x[1] for x in counted_list]\n",
    "    }\n",
    ")"
   ]
  },
  {
   "cell_type": "code",
   "execution_count": 15,
   "id": "32a499d0",
   "metadata": {},
   "outputs": [
    {
     "data": {
      "text/html": [
       "<div>\n",
       "<style scoped>\n",
       "    .dataframe tbody tr th:only-of-type {\n",
       "        vertical-align: middle;\n",
       "    }\n",
       "\n",
       "    .dataframe tbody tr th {\n",
       "        vertical-align: top;\n",
       "    }\n",
       "\n",
       "    .dataframe thead th {\n",
       "        text-align: right;\n",
       "    }\n",
       "</style>\n",
       "<table border=\"1\" class=\"dataframe\">\n",
       "  <thead>\n",
       "    <tr style=\"text-align: right;\">\n",
       "      <th></th>\n",
       "      <th>word</th>\n",
       "      <th>count</th>\n",
       "    </tr>\n",
       "  </thead>\n",
       "  <tbody>\n",
       "    <tr>\n",
       "      <th>0</th>\n",
       "      <td>the</td>\n",
       "      <td>92485</td>\n",
       "    </tr>\n",
       "    <tr>\n",
       "      <th>1</th>\n",
       "      <td>and</td>\n",
       "      <td>71606</td>\n",
       "    </tr>\n",
       "    <tr>\n",
       "      <th>2</th>\n",
       "      <td>be</td>\n",
       "      <td>52283</td>\n",
       "    </tr>\n",
       "    <tr>\n",
       "      <th>3</th>\n",
       "      <td>of</td>\n",
       "      <td>51571</td>\n",
       "    </tr>\n",
       "    <tr>\n",
       "      <th>4</th>\n",
       "      <td>to</td>\n",
       "      <td>31170</td>\n",
       "    </tr>\n",
       "  </tbody>\n",
       "</table>\n",
       "</div>"
      ],
      "text/plain": [
       "  word  count\n",
       "0  the  92485\n",
       "1  and  71606\n",
       "2   be  52283\n",
       "3   of  51571\n",
       "4   to  31170"
      ]
     },
     "execution_count": 15,
     "metadata": {},
     "output_type": "execute_result"
    }
   ],
   "source": [
    "counted_df.head()"
   ]
  },
  {
   "cell_type": "code",
   "execution_count": 16,
   "id": "6eaa6009",
   "metadata": {},
   "outputs": [
    {
     "data": {
      "text/plain": [
       "<AxesSubplot:ylabel='Density'>"
      ]
     },
     "execution_count": 16,
     "metadata": {},
     "output_type": "execute_result"
    },
    {
     "data": {
      "image/png": "[encoded data removed]",
      "text/plain": [
       "<Figure size 432x288 with 1 Axes>"
      ]
     },
     "metadata": {
      "needs_background": "light"
     },
     "output_type": "display_data"
    }
   ],
   "source": [
    "counted_df.plot(x='word', y='count', kind='kde', xlim=(0, 10000))"
   ]
  },
  {
   "cell_type": "markdown",
   "id": "b0c29cb1",
   "metadata": {},
   "source": [
    "On a graph we can see that only a small fraction of words are really frequent, other are relatively seldom to meet. This is a usuall distribution for words and this distribution is utilized by TF-IDF approach with assumption that rare words have more meaning (for ml-models) than frequent ones."
   ]
  },
  {
   "cell_type": "code",
   "execution_count": 17,
   "id": "1f675a3c",
   "metadata": {},
   "outputs": [
    {
     "name": "stderr",
     "output_type": "stream",
     "text": [
      "                                                                                \r"
     ]
    }
   ],
   "source": [
    "counted.saveAsTextFile('wordcount')"
   ]
  },
  {
   "cell_type": "code",
   "execution_count": 18,
   "id": "f30082b1",
   "metadata": {},
   "outputs": [],
   "source": [
    "spark.stop()"
   ]
  },
  {
   "cell_type": "markdown",
   "id": "d94a0e86",
   "metadata": {},
   "source": [
    "### Merge output files to one"
   ]
  },
  {
   "cell_type": "code",
   "execution_count": 19,
   "id": "e1561a43",
   "metadata": {},
   "outputs": [
    {
     "data": {
      "text/plain": [
       "0"
      ]
     },
     "execution_count": 19,
     "metadata": {},
     "output_type": "execute_result"
    }
   ],
   "source": [
    "path = '/Users/andreychubin/Desktop/ВШЭ/НИС_2'\n",
    "\n",
    "os.system(f\"cat {path}/wordcount/* > {path}/wordcount.txt\")"
   ]
  },
  {
   "cell_type": "markdown",
   "id": "09da532f",
   "metadata": {},
   "source": [
    "### Prepare requirements.txt"
   ]
  },
  {
   "cell_type": "code",
   "execution_count": 20,
   "id": "ed3ac68c",
   "metadata": {},
   "outputs": [],
   "source": [
    "!conda env export -n pyspark > environment.yml"
   ]
  },
  {
   "cell_type": "code",
   "execution_count": null,
   "id": "5b4cf461",
   "metadata": {},
   "outputs": [],
   "source": []
  }
 ],
 "metadata": {
  "kernelspec": {
   "display_name": "Python [conda env:pyspark] *",
   "language": "python",
   "name": "conda-env-pyspark-py"
  },
  "language_info": {
   "codemirror_mode": {
    "name": "ipython",
    "version": 3
   },
   "file_extension": ".py",
   "mimetype": "text/x-python",
   "name": "python",
   "nbconvert_exporter": "python",
   "pygments_lexer": "ipython3",
   "version": "3.8.12"
  }
 },
 "nbformat": 4,
 "nbformat_minor": 5
}
